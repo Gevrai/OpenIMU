{
 "cells": [
  {
   "cell_type": "markdown",
   "metadata": {
    "collapsed": true
   },
   "source": [
    "Notes on numpy (for beginners, like me!)\n",
    "\n",
    "[YouTube Tutorial](https://www.youtube.com/watch?v=gtejJ3RCddE)\n",
    "\n",
    "[Documentation](http://docs.scipy.org/doc)\n",
    "\n",
    "point to point multiplication by default\n",
    "@ (python3) matrix mult\n",
    "\n",
    "\n"
   ]
  },
  {
   "cell_type": "code",
   "execution_count": 0,
   "metadata": {},
   "outputs": [],
   "source": []
  },
  {
   "cell_type": "code",
   "execution_count": 2,
   "metadata": {},
   "outputs": [
    {
     "name": "stdout",
     "output_type": "stream",
     "text": [
      "Current path:  ['', '/Users/dominic/Documents/working_area/OpenIMU.git/python/app/OpenIMUTest', '/Users/dominic/Documents/working_area/OpenIMU.git/python/env/python-3.5/lib/python35.zip', '/Users/dominic/Documents/working_area/OpenIMU.git/python/env/python-3.5/lib/python3.5', '/Users/dominic/Documents/working_area/OpenIMU.git/python/env/python-3.5/lib/python3.5/plat-darwin', '/Users/dominic/Documents/working_area/OpenIMU.git/python/env/python-3.5/lib/python3.5/lib-dynload', '/Users/dominic/Documents/working_area/OpenIMU.git/python/env/python-3.5/lib/python3.5/site-packages', '/Users/dominic/Documents/working_area/OpenIMU.git/python/env/python-3.5/lib/python3.5/site-packages/IPython/extensions', '/Users/dominic/.ipython', '/Users/dominic/Documents/working_area/OpenIMU.git/python/app/OpenIMUTest/../']\n"
     ]
    }
   ],
   "source": [
    "import numpy as np\n",
    "import scipy as sp\n",
    "import sys\n",
    "import os\n",
    "\n",
    "np.set_printoptions(suppress=True)\n",
    "\n",
    "sys.path.append(os.getcwd() + '/../')\n",
    "print('Current path: ',sys.path)"
   ]
  },
  {
   "cell_type": "markdown",
   "metadata": {},
   "source": [
    "De la documentation Markdown ici."
   ]
  },
  {
   "cell_type": "code",
   "execution_count": 18,
   "metadata": {
    "scrolled": true
   },
   "outputs": [
    {
     "name": "stdout",
     "output_type": "stream",
     "text": [
      "loading:  ../resources/test_data.mat\n",
      "data length:  100000\n",
      "start time  0.0  stop_time  999.9902509152889\n",
      "input dims (100000, 4)\n",
      "time length 100000 [  0.           0.01         0.02000001 ... 999.97025091 999.98025091\n",
      " 999.99025092]\n",
      "size  100000 100000 100000\n",
      "mag :  [[  0.           0.9365881 ]\n",
      " [  0.01         0.89526166]\n",
      " [  0.02000001   0.93828809]\n",
      " ...\n",
      " [999.97025091   0.88984261]\n",
      " [999.98025091   0.89458978]\n",
      " [999.99025092   0.87610671]]\n",
      "mag shape  (100000, 2)\n",
      "padding size:  2000\n",
      "should have nb_epochs 17.0\n",
      "Total size 102000\n"
     ]
    }
   ],
   "source": [
    "import DataImporter as importer\n",
    "import Algorithms as algo\n",
    "\n",
    "# Load test data\n",
    "rawData = importer.load_mat_file('../resources/test_data.mat')['data2']\n",
    "\n",
    "# Convert time to seconds\n",
    "# Our example have fractional days increments\n",
    "rawData[:, 0] = rawData[:, 0] * 24 * 60 * 60\n",
    "\n",
    "#Execute algorithm\n",
    "[nb_epochs, my_counts] = algo.freedson_adult_1998(rawData, epoch_secs=60 ,rate=100)\n",
    "\n"
   ]
  },
  {
   "cell_type": "code",
   "execution_count": null,
   "metadata": {},
   "outputs": [],
   "source": []
  },
  {
   "cell_type": "code",
   "execution_count": null,
   "metadata": {},
   "outputs": [],
   "source": []
  },
  {
   "cell_type": "code",
   "execution_count": null,
   "metadata": {},
   "outputs": [],
   "source": []
  }
 ],
 "metadata": {
  "kernelspec": {
   "display_name": "Python 3",
   "language": "python",
   "name": "python3"
  },
  "language_info": {
   "codemirror_mode": {
    "name": "ipython",
    "version": 3
   },
   "file_extension": ".py",
   "mimetype": "text/x-python",
   "name": "python",
   "nbconvert_exporter": "python",
   "pygments_lexer": "ipython3",
   "version": "3.5.4"
  }
 },
 "nbformat": 4,
 "nbformat_minor": 1
}
